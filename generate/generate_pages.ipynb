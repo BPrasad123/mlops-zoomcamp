{
 "cells": [
  {
   "cell_type": "code",
   "execution_count": 96,
   "id": "502b2572",
   "metadata": {},
   "outputs": [],
   "source": [
    "import io\n",
    "import json\n",
    "\n",
    "from pathlib import Path\n",
    "from urllib.parse import urlparse, parse_qs\n",
    "\n",
    "import pandas as pd\n",
    "import numpy as np\n",
    "\n",
    "import requests\n",
    "import clipboard\n",
    "\n",
    "from PIL import Image\n",
    "from jinja2 import Template"
   ]
  },
  {
   "cell_type": "code",
   "execution_count": 49,
   "id": "e434e20b",
   "metadata": {},
   "outputs": [],
   "source": [
    "module_number = 1\n",
    "module_name = 'Introduction'\n",
    "module_folder = Path('..') / '01-intro'"
   ]
  },
  {
   "cell_type": "markdown",
   "id": "a91381d0",
   "metadata": {},
   "source": [
    "## Prepare `meta.json` info"
   ]
  },
  {
   "cell_type": "code",
   "execution_count": 10,
   "id": "15d0782b",
   "metadata": {},
   "outputs": [],
   "source": [
    "text = \"\"\"\n",
    "module\tmodule_name\tunit\ttitle\tfull_title\tyoutube\n",
    "1\tIntroduction\t1\tIntroduction\tMLOps Zoomcamp 1.1 - Introduction\thttps://www.youtube.com/watch?v=s0uaFZSzwfI\n",
    "1\tIntroduction\t2\tEnvironment preparation\tMLOps Zoomcamp 1.2 - Environment preparation\t\n",
    "1\tIntroduction\t3\t(Optional) Training a ride duration prediction model\tMLOps Zoomcamp 1.3 - (Optional) Training a ride duration prediction model\thttps://www.youtube.com/watch?v=iRunifGSHFc\n",
    "1\tIntroduction\t4\tCourse overview\tMLOps Zoomcamp 1.4 - Course overview\thttps://www.youtube.com/watch?v=teP9KWkP6SM\n",
    "1\tIntroduction\t5\tMLOps maturity model\tMLOps Zoomcamp 1.5 - MLOps maturity model\thttps://www.youtube.com/watch?v=XwTH8BDGzYk\n",
    "1\tIntroduction\t6\tHomework\tMLOps Zoomcamp 1.6 - Homework\tNA\n",
    "\"\"\".strip()"
   ]
  },
  {
   "cell_type": "code",
   "execution_count": 11,
   "id": "43db9fdf",
   "metadata": {},
   "outputs": [],
   "source": [
    "df = pd.read_csv(io.StringIO(text), delimiter='\\t')"
   ]
  },
  {
   "cell_type": "code",
   "execution_count": 30,
   "id": "38ffbb71",
   "metadata": {},
   "outputs": [],
   "source": [
    "df['youtube'] = df['youtube'].fillna('')"
   ]
  },
  {
   "cell_type": "code",
   "execution_count": 33,
   "id": "aa4e2fb9",
   "metadata": {},
   "outputs": [
    {
     "data": {
      "text/plain": [
       "[{'unit': 1,\n",
       "  'title': 'Introduction',\n",
       "  'youtube': 'https://www.youtube.com/watch?v=s0uaFZSzwfI'},\n",
       " {'unit': 2, 'title': 'Environment preparation', 'youtube': ''},\n",
       " {'unit': 3,\n",
       "  'title': '(Optional) Training a ride duration prediction model',\n",
       "  'youtube': 'https://www.youtube.com/watch?v=iRunifGSHFc'},\n",
       " {'unit': 4,\n",
       "  'title': 'Course overview',\n",
       "  'youtube': 'https://www.youtube.com/watch?v=teP9KWkP6SM'},\n",
       " {'unit': 5,\n",
       "  'title': 'MLOps maturity model',\n",
       "  'youtube': 'https://www.youtube.com/watch?v=XwTH8BDGzYk'},\n",
       " {'unit': 6, 'title': 'Homework', 'youtube': ''}]"
      ]
     },
     "execution_count": 33,
     "metadata": {},
     "output_type": "execute_result"
    }
   ],
   "source": [
    "units = df[['unit', 'title', 'youtube']].to_dict(orient='records')\n",
    "units"
   ]
  },
  {
   "cell_type": "code",
   "execution_count": 62,
   "id": "295d55b6",
   "metadata": {},
   "outputs": [],
   "source": [
    "meta = {\n",
    "    'module_info': {\n",
    "        'module_number': module_number,\n",
    "        'module_name': module_name\n",
    "    },\n",
    "    'units': units\n",
    "}"
   ]
  },
  {
   "cell_type": "code",
   "execution_count": 63,
   "id": "cf6ed0e9",
   "metadata": {},
   "outputs": [
    {
     "data": {
      "text/plain": [
       "{'module_info': {'module_number': 1, 'module_name': 'Introduction'},\n",
       " 'units': [{'unit': 1,\n",
       "   'title': 'Introduction',\n",
       "   'youtube': 'https://www.youtube.com/watch?v=s0uaFZSzwfI'},\n",
       "  {'unit': 2, 'title': 'Environment preparation', 'youtube': ''},\n",
       "  {'unit': 3,\n",
       "   'title': '(Optional) Training a ride duration prediction model',\n",
       "   'youtube': 'https://www.youtube.com/watch?v=iRunifGSHFc'},\n",
       "  {'unit': 4,\n",
       "   'title': 'Course overview',\n",
       "   'youtube': 'https://www.youtube.com/watch?v=teP9KWkP6SM'},\n",
       "  {'unit': 5,\n",
       "   'title': 'MLOps maturity model',\n",
       "   'youtube': 'https://www.youtube.com/watch?v=XwTH8BDGzYk'},\n",
       "  {'unit': 6, 'title': 'Homework', 'youtube': ''}]}"
      ]
     },
     "execution_count": 63,
     "metadata": {},
     "output_type": "execute_result"
    }
   ],
   "source": [
    "meta"
   ]
  },
  {
   "cell_type": "code",
   "execution_count": 64,
   "id": "e0197e13",
   "metadata": {},
   "outputs": [],
   "source": [
    "module_folder.mkdir(parents=True, exist_ok=True)\n",
    "meta_json_file = module_folder / 'meta.json'\n",
    "\n",
    "with open(meta_json_file, 'wt') as f_out:\n",
    "    json.dump(meta, f_out, indent=2)"
   ]
  },
  {
   "cell_type": "code",
   "execution_count": 65,
   "id": "a06089d0",
   "metadata": {},
   "outputs": [
    {
     "name": "stdout",
     "output_type": "stream",
     "text": [
      "{\n",
      "  \"module_info\": {\n",
      "    \"module_number\": 1,\n",
      "    \"module_name\": \"Introduction\"\n",
      "  },\n",
      "  \"units\": [\n",
      "    {\n",
      "      \"unit\": 1,\n",
      "      \"title\": \"Introduction\",\n",
      "      \"youtube\": \"https://www.youtube.com/watch?v=s0uaFZSzwfI\"\n"
     ]
    }
   ],
   "source": [
    "!head {meta_json_file}"
   ]
  },
  {
   "cell_type": "markdown",
   "id": "5db87368",
   "metadata": {},
   "source": [
    "## Generate page"
   ]
  },
  {
   "cell_type": "code",
   "execution_count": 66,
   "id": "af03fb6a",
   "metadata": {},
   "outputs": [],
   "source": [
    "meta_json_file = module_folder / 'meta.json'"
   ]
  },
  {
   "cell_type": "code",
   "execution_count": 108,
   "id": "166dadc7",
   "metadata": {},
   "outputs": [],
   "source": [
    "with meta_json_file.open('rt') as f_in:\n",
    "    meta = json.load(f_in)"
   ]
  },
  {
   "cell_type": "code",
   "execution_count": 68,
   "id": "50fc8f7c",
   "metadata": {},
   "outputs": [],
   "source": [
    "module_info = meta['module_info']\n",
    "units = meta['units']"
   ]
  },
  {
   "cell_type": "code",
   "execution_count": 142,
   "id": "32877ffd",
   "metadata": {},
   "outputs": [
    {
     "data": {
      "text/plain": [
       "{'module_number': 1, 'module_name': 'Introduction'}"
      ]
     },
     "execution_count": 142,
     "metadata": {},
     "output_type": "execute_result"
    }
   ],
   "source": [
    "module_info"
   ]
  },
  {
   "cell_type": "code",
   "execution_count": 89,
   "id": "a6340d93",
   "metadata": {},
   "outputs": [],
   "source": [
    "images_folder = module_folder / 'images'\n",
    "images_folder.mkdir(parents=True, exist_ok=True)"
   ]
  },
  {
   "cell_type": "code",
   "execution_count": 90,
   "id": "02ea1e90",
   "metadata": {},
   "outputs": [],
   "source": [
    "overwrite = True"
   ]
  },
  {
   "cell_type": "code",
   "execution_count": 138,
   "id": "d92031f3",
   "metadata": {},
   "outputs": [],
   "source": [
    "template_string = \"\"\"\n",
    "## {{ module_number }}.{{ unit }} {{ title }}\n",
    "\n",
    "{% if youtube %}<a href=\"{{ youtube }}\">\n",
    "  <img src=\"{{ thumbnail }}\">\n",
    "</a>{% endif %}{% if not youtube %}COMING SOON{% endif %}\n",
    "\n",
    "\n",
    "\"\"\".lstrip()\n",
    "\n",
    "template = Template(template_string)"
   ]
  },
  {
   "cell_type": "code",
   "execution_count": null,
   "id": "23d7c206",
   "metadata": {},
   "outputs": [],
   "source": []
  },
  {
   "cell_type": "code",
   "execution_count": 139,
   "id": "a87656f0",
   "metadata": {},
   "outputs": [],
   "source": [
    "def download_thumbnail(video, module, unit, folder):\n",
    "    if type(unit) in [int, np.int64]:\n",
    "        thumbnail_file = f'thumbnail-{module}-{unit:02d}.jpg'\n",
    "    else:\n",
    "        thumbnail_file = f'thumbnail-{module}-{unit}.jpg'\n",
    "\n",
    "    thumbnail_file = folder / thumbnail_file\n",
    "\n",
    "    if thumbnail_file.exists():\n",
    "        print(f'{thumbnail_file} exists')\n",
    "        return thumbnail_file\n",
    "\n",
    "    video_id = parse_qs(urlparse(video).query)['v'][0]\n",
    "    print(f'processing video {video_id}...')\n",
    "    thumbnail_url = f'https://img.youtube.com/vi/{video_id}/0.jpg'\n",
    "\n",
    "    response = requests.get(thumbnail_url)\n",
    "    thumbnail = Image.open(io.BytesIO(response.content))\n",
    "    w_img, h_img = thumbnail.size\n",
    "\n",
    "    play = Image.open(Path('../images/play.png'))\n",
    "    w_play, h_play = play.size\n",
    "    \n",
    "    x0 = w_img // 2 - w_play // 2\n",
    "    y0 = h_img // 2 - h_play // 2\n",
    "\n",
    "    thumbnail.paste(play, (x0, y0), play)\n",
    "    thumbnail.save(thumbnail_file, quality=90)\n",
    "\n",
    "    print('saved to', thumbnail_file)\n",
    "\n",
    "    return thumbnail_file"
   ]
  },
  {
   "cell_type": "code",
   "execution_count": null,
   "id": "8910fbf3",
   "metadata": {},
   "outputs": [],
   "source": []
  },
  {
   "cell_type": "code",
   "execution_count": 140,
   "id": "b592beb6",
   "metadata": {},
   "outputs": [
    {
     "name": "stdout",
     "output_type": "stream",
     "text": [
      "..\\01-intro\\images\\thumbnail-1-01.jpg exists\n",
      "## 1.1 Introduction\n",
      "\n",
      "<a href=\"https://www.youtube.com/watch?v=s0uaFZSzwfI&list=PL3MmuxUbc_hIUISrluw_A7wDSmfOhErJK\">\n",
      "  <img src=\"images/thumbnail-1-01.jpg\">\n",
      "</a>\n",
      "\n",
      "### Notes\n",
      "\n",
      "Add notes (PRs are welcome)\n",
      "\n",
      "\n",
      "## 1.2 Environment preparation\n",
      "\n",
      "<a href=\"&list=PL3MmuxUbc_hIUISrluw_A7wDSmfOhErJK\">\n",
      "  <img src=\"\">\n",
      "</a>\n",
      "\n",
      "### Notes\n",
      "\n",
      "Add notes (PRs are welcome)\n",
      "\n",
      "\n",
      "..\\01-intro\\images\\thumbnail-1-03.jpg exists\n",
      "## 1.3 (Optional) Training a ride duration prediction model\n",
      "\n",
      "<a href=\"https://www.youtube.com/watch?v=iRunifGSHFc&list=PL3MmuxUbc_hIUISrluw_A7wDSmfOhErJK\">\n",
      "  <img src=\"images/thumbnail-1-03.jpg\">\n",
      "</a>\n",
      "\n",
      "### Notes\n",
      "\n",
      "Add notes (PRs are welcome)\n",
      "\n",
      "\n",
      "..\\01-intro\\images\\thumbnail-1-04.jpg exists\n",
      "## 1.4 Course overview\n",
      "\n",
      "<a href=\"https://www.youtube.com/watch?v=teP9KWkP6SM&list=PL3MmuxUbc_hIUISrluw_A7wDSmfOhErJK\">\n",
      "  <img src=\"images/thumbnail-1-04.jpg\">\n",
      "</a>\n",
      "\n",
      "### Notes\n",
      "\n",
      "Add notes (PRs are welcome)\n",
      "\n",
      "\n",
      "..\\01-intro\\images\\thumbnail-1-05.jpg exists\n",
      "## 1.5 MLOps maturity model\n",
      "\n",
      "<a href=\"https://www.youtube.com/watch?v=XwTH8BDGzYk&list=PL3MmuxUbc_hIUISrluw_A7wDSmfOhErJK\">\n",
      "  <img src=\"images/thumbnail-1-05.jpg\">\n",
      "</a>\n",
      "\n",
      "### Notes\n",
      "\n",
      "Add notes (PRs are welcome)\n",
      "\n",
      "\n",
      "## 1.6 Homework\n",
      "\n",
      "<a href=\"&list=PL3MmuxUbc_hIUISrluw_A7wDSmfOhErJK\">\n",
      "  <img src=\"\">\n",
      "</a>\n",
      "\n",
      "### Notes\n",
      "\n",
      "Add notes (PRs are welcome)\n",
      "\n",
      "\n"
     ]
    }
   ],
   "source": [
    "module_number = module_info['module_number']\n",
    "\n",
    "parts = []\n",
    "\n",
    "for unit in units:\n",
    "    youtube = unit['youtube']\n",
    "    unit_number = unit['unit']\n",
    "\n",
    "    params = {**module_info, **unit}\n",
    "\n",
    "    if len(youtube) and youtube.startswith('https'):\n",
    "        thumbnail = download_thumbnail(youtube, module_number, unit_number, images_folder)\n",
    "        thumbnail_path = '/'.join(thumbnail.parts[2:])\n",
    "        params['youtube'] = params['youtube'] + '&list=PL3MmuxUbc_hIUISrluw_A7wDSmfOhErJK'\n",
    "        params['thumbnail'] = thumbnail_path\n",
    "        \n",
    "    template_string = template.render(params)\n",
    "    print(template_string)\n",
    "    parts.append(template_string)"
   ]
  },
  {
   "cell_type": "code",
   "execution_count": 148,
   "id": "6d6e3584",
   "metadata": {},
   "outputs": [],
   "source": [
    "prefix = f\"\"\"\n",
    "# {module_info['module_number']}. {module_info['module_name']} \n",
    "\"\"\".strip()\n",
    "\n",
    "\n",
    "final_result = '\\n\\n'.join([prefix] + parts)"
   ]
  },
  {
   "cell_type": "code",
   "execution_count": 152,
   "id": "4d900666",
   "metadata": {},
   "outputs": [],
   "source": [
    "clipboard.copy(final_result)"
   ]
  },
  {
   "cell_type": "code",
   "execution_count": null,
   "id": "6ff9d662",
   "metadata": {},
   "outputs": [],
   "source": []
  }
 ],
 "metadata": {
  "kernelspec": {
   "display_name": "Python 3 (ipykernel)",
   "language": "python",
   "name": "python3"
  },
  "language_info": {
   "codemirror_mode": {
    "name": "ipython",
    "version": 3
   },
   "file_extension": ".py",
   "mimetype": "text/x-python",
   "name": "python",
   "nbconvert_exporter": "python",
   "pygments_lexer": "ipython3",
   "version": "3.9.7"
  }
 },
 "nbformat": 4,
 "nbformat_minor": 5
}
